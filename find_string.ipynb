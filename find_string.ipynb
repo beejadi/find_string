{
  "nbformat": 4,
  "nbformat_minor": 0,
  "metadata": {
    "colab": {
      "provenance": [],
      "authorship_tag": "ABX9TyN8eE3J5hWIkYyt0+MLz+xU",
      "include_colab_link": true
    },
    "kernelspec": {
      "name": "python3",
      "display_name": "Python 3"
    },
    "language_info": {
      "name": "python"
    }
  },
  "cells": [
    {
      "cell_type": "markdown",
      "metadata": {
        "id": "view-in-github",
        "colab_type": "text"
      },
      "source": [
        "<a href=\"https://colab.research.google.com/github/beejadi/find_string/blob/main/find_string.ipynb\" target=\"_parent\"><img src=\"https://colab.research.google.com/assets/colab-badge.svg\" alt=\"Open In Colab\"/></a>"
      ]
    },
    {
      "cell_type": "code",
      "execution_count": 1,
      "metadata": {
        "id": "A5cvOW0jdeEd"
      },
      "outputs": [],
      "source": [
        "import os"
      ]
    },
    {
      "cell_type": "code",
      "source": [
        "folder=\"sample_data\" # provide the path of the folder you want\n",
        "files=os.listdir(folder) # retrieves all the files in the above folder"
      ],
      "metadata": {
        "id": "A_rzR3xieDtu"
      },
      "execution_count": 19,
      "outputs": []
    },
    {
      "cell_type": "code",
      "source": [
        "result_files=[] # a list to hold all the files that contains the string you want to find\n",
        "find_string=\"total_rooms\" # string to be found"
      ],
      "metadata": {
        "id": "d1jkEaRee9Mc"
      },
      "execution_count": 21,
      "outputs": []
    },
    {
      "cell_type": "code",
      "source": [
        "for f in files:\n",
        "  file_path=os.path.join(folder,f) #file path\n",
        "  if os.path.isfile(file_path):\n",
        "    with open(file_path,'r') as file: # opens the file in read mode\n",
        "      content=file.read() # reads the file into a variable content\n",
        "      if find_string in content: # searches the specified string in content i.e in file\n",
        "        result_files.append(f) #if found appnds to the results list"
      ],
      "metadata": {
        "id": "pUbRnLUlfFXZ"
      },
      "execution_count": 22,
      "outputs": []
    },
    {
      "cell_type": "code",
      "source": [
        "print(result_files) # printing the results list"
      ],
      "metadata": {
        "colab": {
          "base_uri": "https://localhost:8080/"
        },
        "id": "PFvkRbB1gn1O",
        "outputId": "c8517612-e212-4be5-980e-1244fe5169e3"
      },
      "execution_count": 24,
      "outputs": [
        {
          "output_type": "stream",
          "name": "stdout",
          "text": [
            "['california_housing_train.csv', 'california_housing_test.csv']\n"
          ]
        }
      ]
    }
  ]
}